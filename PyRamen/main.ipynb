{
 "cells": [
  {
   "cell_type": "code",
   "execution_count": 1,
   "id": "ecae0d88-f131-489e-a3db-169c7fa7a4da",
   "metadata": {},
   "outputs": [],
   "source": [
    "import pandas as pd"
   ]
  },
  {
   "cell_type": "code",
   "execution_count": 2,
   "id": "7b652873-adc4-4969-8cbc-72363872b857",
   "metadata": {},
   "outputs": [],
   "source": [
    "menu_file = './data/menu_data.csv'\n",
    "sales_file = './data/sales_data.csv'"
   ]
  },
  {
   "cell_type": "code",
   "execution_count": 4,
   "id": "4a1ed705-23fe-466c-b43e-e7bf2c2b7f54",
   "metadata": {},
   "outputs": [],
   "source": [
    "menu_df = pd.read_csv(menu_file)\n",
    "sales_df = pd.read_csv(sales_file)"
   ]
  },
  {
   "cell_type": "code",
   "execution_count": 6,
   "id": "bdfaf838-eeb3-4dc9-a0f5-a8c53f9a6eef",
   "metadata": {},
   "outputs": [
    {
     "data": {
      "text/html": [
       "<div>\n",
       "<style scoped>\n",
       "    .dataframe tbody tr th:only-of-type {\n",
       "        vertical-align: middle;\n",
       "    }\n",
       "\n",
       "    .dataframe tbody tr th {\n",
       "        vertical-align: top;\n",
       "    }\n",
       "\n",
       "    .dataframe thead th {\n",
       "        text-align: right;\n",
       "    }\n",
       "</style>\n",
       "<table border=\"1\" class=\"dataframe\">\n",
       "  <thead>\n",
       "    <tr style=\"text-align: right;\">\n",
       "      <th></th>\n",
       "      <th>item</th>\n",
       "      <th>category</th>\n",
       "      <th>description</th>\n",
       "      <th>price</th>\n",
       "      <th>cost</th>\n",
       "    </tr>\n",
       "  </thead>\n",
       "  <tbody>\n",
       "    <tr>\n",
       "      <th>0</th>\n",
       "      <td>edamame</td>\n",
       "      <td>appetizers</td>\n",
       "      <td>boiled soybeans, maldon sea salt</td>\n",
       "      <td>4.0</td>\n",
       "      <td>1</td>\n",
       "    </tr>\n",
       "    <tr>\n",
       "      <th>1</th>\n",
       "      <td>house salad</td>\n",
       "      <td>appetizers</td>\n",
       "      <td>mixed greens, cherry tomatoes, cucumber, house...</td>\n",
       "      <td>4.0</td>\n",
       "      <td>2</td>\n",
       "    </tr>\n",
       "    <tr>\n",
       "      <th>2</th>\n",
       "      <td>cucumber sunomono salad</td>\n",
       "      <td>appetizers</td>\n",
       "      <td>cucumber, ponzu dressing, pickled ginger sprou...</td>\n",
       "      <td>5.0</td>\n",
       "      <td>2</td>\n",
       "    </tr>\n",
       "    <tr>\n",
       "      <th>3</th>\n",
       "      <td>hiyashi wakame seaweed salad</td>\n",
       "      <td>appetizers</td>\n",
       "      <td>sweet soy-marinated wakame seaweed threads, pi...</td>\n",
       "      <td>5.0</td>\n",
       "      <td>2</td>\n",
       "    </tr>\n",
       "    <tr>\n",
       "      <th>4</th>\n",
       "      <td>agedashi tofu</td>\n",
       "      <td>appetizers</td>\n",
       "      <td>tempura battered tofu, katsuobushi, tsuyu brot...</td>\n",
       "      <td>5.0</td>\n",
       "      <td>2</td>\n",
       "    </tr>\n",
       "  </tbody>\n",
       "</table>\n",
       "</div>"
      ],
      "text/plain": [
       "                           item    category  \\\n",
       "0                       edamame  appetizers   \n",
       "1                   house salad  appetizers   \n",
       "2       cucumber sunomono salad  appetizers   \n",
       "3  hiyashi wakame seaweed salad  appetizers   \n",
       "4                 agedashi tofu  appetizers   \n",
       "\n",
       "                                         description  price  cost  \n",
       "0                   boiled soybeans, maldon sea salt    4.0     1  \n",
       "1  mixed greens, cherry tomatoes, cucumber, house...    4.0     2  \n",
       "2  cucumber, ponzu dressing, pickled ginger sprou...    5.0     2  \n",
       "3  sweet soy-marinated wakame seaweed threads, pi...    5.0     2  \n",
       "4  tempura battered tofu, katsuobushi, tsuyu brot...    5.0     2  "
      ]
     },
     "execution_count": 6,
     "metadata": {},
     "output_type": "execute_result"
    }
   ],
   "source": [
    "menu_df.head()"
   ]
  },
  {
   "cell_type": "code",
   "execution_count": 7,
   "id": "5d294e7a-3356-4fb2-9672-bd1616e28d2d",
   "metadata": {},
   "outputs": [
    {
     "data": {
      "text/html": [
       "<div>\n",
       "<style scoped>\n",
       "    .dataframe tbody tr th:only-of-type {\n",
       "        vertical-align: middle;\n",
       "    }\n",
       "\n",
       "    .dataframe tbody tr th {\n",
       "        vertical-align: top;\n",
       "    }\n",
       "\n",
       "    .dataframe thead th {\n",
       "        text-align: right;\n",
       "    }\n",
       "</style>\n",
       "<table border=\"1\" class=\"dataframe\">\n",
       "  <thead>\n",
       "    <tr style=\"text-align: right;\">\n",
       "      <th></th>\n",
       "      <th>Line_Item_ID</th>\n",
       "      <th>Date</th>\n",
       "      <th>Credit_Card_Number</th>\n",
       "      <th>Quantity</th>\n",
       "      <th>Menu_Item</th>\n",
       "    </tr>\n",
       "  </thead>\n",
       "  <tbody>\n",
       "    <tr>\n",
       "      <th>0</th>\n",
       "      <td>1</td>\n",
       "      <td>01-01-2017</td>\n",
       "      <td>7437926611570799</td>\n",
       "      <td>1</td>\n",
       "      <td>spicy miso ramen</td>\n",
       "    </tr>\n",
       "    <tr>\n",
       "      <th>1</th>\n",
       "      <td>2</td>\n",
       "      <td>01-01-2017</td>\n",
       "      <td>7437926611570799</td>\n",
       "      <td>1</td>\n",
       "      <td>spicy miso ramen</td>\n",
       "    </tr>\n",
       "    <tr>\n",
       "      <th>2</th>\n",
       "      <td>3</td>\n",
       "      <td>01-01-2017</td>\n",
       "      <td>8421920068932819</td>\n",
       "      <td>3</td>\n",
       "      <td>tori paitan ramen</td>\n",
       "    </tr>\n",
       "    <tr>\n",
       "      <th>3</th>\n",
       "      <td>4</td>\n",
       "      <td>01-01-2017</td>\n",
       "      <td>8421920068932819</td>\n",
       "      <td>3</td>\n",
       "      <td>tori paitan ramen</td>\n",
       "    </tr>\n",
       "    <tr>\n",
       "      <th>4</th>\n",
       "      <td>5</td>\n",
       "      <td>01-01-2017</td>\n",
       "      <td>4787310681569648</td>\n",
       "      <td>1</td>\n",
       "      <td>truffle butter ramen</td>\n",
       "    </tr>\n",
       "  </tbody>\n",
       "</table>\n",
       "</div>"
      ],
      "text/plain": [
       "   Line_Item_ID        Date  Credit_Card_Number  Quantity  \\\n",
       "0             1  01-01-2017    7437926611570799         1   \n",
       "1             2  01-01-2017    7437926611570799         1   \n",
       "2             3  01-01-2017    8421920068932819         3   \n",
       "3             4  01-01-2017    8421920068932819         3   \n",
       "4             5  01-01-2017    4787310681569648         1   \n",
       "\n",
       "              Menu_Item  \n",
       "0      spicy miso ramen  \n",
       "1      spicy miso ramen  \n",
       "2     tori paitan ramen  \n",
       "3     tori paitan ramen  \n",
       "4  truffle butter ramen  "
      ]
     },
     "execution_count": 7,
     "metadata": {},
     "output_type": "execute_result"
    }
   ],
   "source": [
    "sales_df.head()"
   ]
  },
  {
   "cell_type": "code",
   "execution_count": 8,
   "id": "4609db80-db4c-4d0b-b160-60249b7a2533",
   "metadata": {},
   "outputs": [
    {
     "data": {
      "text/plain": [
       "(74124, 5)"
      ]
     },
     "execution_count": 8,
     "metadata": {},
     "output_type": "execute_result"
    }
   ],
   "source": [
    "sales_df.shape"
   ]
  },
  {
   "cell_type": "code",
   "execution_count": 9,
   "id": "5029e4f8-d693-45f4-a8f3-71648ba2ff4c",
   "metadata": {},
   "outputs": [
    {
     "data": {
      "text/plain": [
       "(32, 5)"
      ]
     },
     "execution_count": 9,
     "metadata": {},
     "output_type": "execute_result"
    }
   ],
   "source": [
    "menu_df.shape"
   ]
  },
  {
   "cell_type": "markdown",
   "id": "3911ffac-b2f1-43b3-ac15-6ef65125be66",
   "metadata": {},
   "source": [
    "## The Count for each item"
   ]
  },
  {
   "cell_type": "code",
   "execution_count": 16,
   "id": "7fdc0420-8d2c-4db6-90d7-9e003a817e8a",
   "metadata": {},
   "outputs": [
    {
     "data": {
      "text/plain": [
       "pandas.core.series.Series"
      ]
     },
     "execution_count": 16,
     "metadata": {},
     "output_type": "execute_result"
    }
   ],
   "source": [
    "item_count = sales_df.groupby('Menu_Item').Quantity.sum()\n",
    "type(item_count)"
   ]
  },
  {
   "cell_type": "markdown",
   "id": "3ec7b81d-628f-42b7-93fa-37428ae0261a",
   "metadata": {},
   "source": [
    "## Get the Price for each of these items\n"
   ]
  },
  {
   "cell_type": "code",
   "execution_count": null,
   "id": "12ed6032-3ca0-4662-93e4-43bbd9f17a9d",
   "metadata": {},
   "outputs": [],
   "source": [
    "#pd.merge(sales_df,menu_df,on='id')\n",
    "#pd.merge(left, right, how='inner', on=None, left_on=None, right_on=None, left_index=False, right_index=False, sort=True)"
   ]
  },
  {
   "cell_type": "code",
   "execution_count": 18,
   "id": "514e5e8c-7dfa-477c-90bd-17f5a54591fb",
   "metadata": {},
   "outputs": [],
   "source": [
    "mnu_sales_df = pd.merge(menu_df, sales_df, how='inner', left_on='item', right_on='Menu_Item')"
   ]
  },
  {
   "cell_type": "code",
   "execution_count": 25,
   "id": "966a11e4-dd8c-403e-9d7d-1c27c88583be",
   "metadata": {},
   "outputs": [
    {
     "data": {
      "text/html": [
       "<div>\n",
       "<style scoped>\n",
       "    .dataframe tbody tr th:only-of-type {\n",
       "        vertical-align: middle;\n",
       "    }\n",
       "\n",
       "    .dataframe tbody tr th {\n",
       "        vertical-align: top;\n",
       "    }\n",
       "\n",
       "    .dataframe thead th {\n",
       "        text-align: right;\n",
       "    }\n",
       "</style>\n",
       "<table border=\"1\" class=\"dataframe\">\n",
       "  <thead>\n",
       "    <tr style=\"text-align: right;\">\n",
       "      <th></th>\n",
       "      <th>item</th>\n",
       "      <th>category</th>\n",
       "      <th>description</th>\n",
       "      <th>price</th>\n",
       "      <th>cost</th>\n",
       "      <th>Line_Item_ID</th>\n",
       "      <th>Date</th>\n",
       "      <th>Credit_Card_Number</th>\n",
       "      <th>Quantity</th>\n",
       "      <th>Menu_Item</th>\n",
       "      <th>revenue</th>\n",
       "      <th>cogs</th>\n",
       "      <th>profit</th>\n",
       "    </tr>\n",
       "  </thead>\n",
       "  <tbody>\n",
       "    <tr>\n",
       "      <th>0</th>\n",
       "      <td>nagomi shoyu</td>\n",
       "      <td>entree</td>\n",
       "      <td>shoyu seasoned clear double stock (organic chi...</td>\n",
       "      <td>11.0</td>\n",
       "      <td>5</td>\n",
       "      <td>39</td>\n",
       "      <td>01-01-2017</td>\n",
       "      <td>5567347994803336</td>\n",
       "      <td>1</td>\n",
       "      <td>nagomi shoyu</td>\n",
       "      <td>11.0</td>\n",
       "      <td>5</td>\n",
       "      <td>6.0</td>\n",
       "    </tr>\n",
       "    <tr>\n",
       "      <th>1</th>\n",
       "      <td>nagomi shoyu</td>\n",
       "      <td>entree</td>\n",
       "      <td>shoyu seasoned clear double stock (organic chi...</td>\n",
       "      <td>11.0</td>\n",
       "      <td>5</td>\n",
       "      <td>40</td>\n",
       "      <td>01-01-2017</td>\n",
       "      <td>5567347994803336</td>\n",
       "      <td>1</td>\n",
       "      <td>nagomi shoyu</td>\n",
       "      <td>11.0</td>\n",
       "      <td>5</td>\n",
       "      <td>6.0</td>\n",
       "    </tr>\n",
       "    <tr>\n",
       "      <th>2</th>\n",
       "      <td>nagomi shoyu</td>\n",
       "      <td>entree</td>\n",
       "      <td>shoyu seasoned clear double stock (organic chi...</td>\n",
       "      <td>11.0</td>\n",
       "      <td>5</td>\n",
       "      <td>51</td>\n",
       "      <td>01-01-2017</td>\n",
       "      <td>9720247648273415</td>\n",
       "      <td>3</td>\n",
       "      <td>nagomi shoyu</td>\n",
       "      <td>33.0</td>\n",
       "      <td>15</td>\n",
       "      <td>18.0</td>\n",
       "    </tr>\n",
       "    <tr>\n",
       "      <th>3</th>\n",
       "      <td>nagomi shoyu</td>\n",
       "      <td>entree</td>\n",
       "      <td>shoyu seasoned clear double stock (organic chi...</td>\n",
       "      <td>11.0</td>\n",
       "      <td>5</td>\n",
       "      <td>52</td>\n",
       "      <td>01-01-2017</td>\n",
       "      <td>9720247648273415</td>\n",
       "      <td>3</td>\n",
       "      <td>nagomi shoyu</td>\n",
       "      <td>33.0</td>\n",
       "      <td>15</td>\n",
       "      <td>18.0</td>\n",
       "    </tr>\n",
       "    <tr>\n",
       "      <th>4</th>\n",
       "      <td>nagomi shoyu</td>\n",
       "      <td>entree</td>\n",
       "      <td>shoyu seasoned clear double stock (organic chi...</td>\n",
       "      <td>11.0</td>\n",
       "      <td>5</td>\n",
       "      <td>57</td>\n",
       "      <td>01-01-2017</td>\n",
       "      <td>2925610854460099</td>\n",
       "      <td>2</td>\n",
       "      <td>nagomi shoyu</td>\n",
       "      <td>22.0</td>\n",
       "      <td>10</td>\n",
       "      <td>12.0</td>\n",
       "    </tr>\n",
       "  </tbody>\n",
       "</table>\n",
       "</div>"
      ],
      "text/plain": [
       "           item category                                        description  \\\n",
       "0  nagomi shoyu   entree  shoyu seasoned clear double stock (organic chi...   \n",
       "1  nagomi shoyu   entree  shoyu seasoned clear double stock (organic chi...   \n",
       "2  nagomi shoyu   entree  shoyu seasoned clear double stock (organic chi...   \n",
       "3  nagomi shoyu   entree  shoyu seasoned clear double stock (organic chi...   \n",
       "4  nagomi shoyu   entree  shoyu seasoned clear double stock (organic chi...   \n",
       "\n",
       "   price  cost  Line_Item_ID        Date  Credit_Card_Number  Quantity  \\\n",
       "0   11.0     5            39  01-01-2017    5567347994803336         1   \n",
       "1   11.0     5            40  01-01-2017    5567347994803336         1   \n",
       "2   11.0     5            51  01-01-2017    9720247648273415         3   \n",
       "3   11.0     5            52  01-01-2017    9720247648273415         3   \n",
       "4   11.0     5            57  01-01-2017    2925610854460099         2   \n",
       "\n",
       "      Menu_Item  revenue  cogs  profit  \n",
       "0  nagomi shoyu     11.0     5     6.0  \n",
       "1  nagomi shoyu     11.0     5     6.0  \n",
       "2  nagomi shoyu     33.0    15    18.0  \n",
       "3  nagomi shoyu     33.0    15    18.0  \n",
       "4  nagomi shoyu     22.0    10    12.0  "
      ]
     },
     "execution_count": 25,
     "metadata": {},
     "output_type": "execute_result"
    }
   ],
   "source": [
    "mnu_sales_df.head()"
   ]
  },
  {
   "cell_type": "code",
   "execution_count": 26,
   "id": "8b6472a5-6e38-4eab-9e72-ceb5663f5e7d",
   "metadata": {},
   "outputs": [
    {
     "data": {
      "text/plain": [
       "(74124, 13)"
      ]
     },
     "execution_count": 26,
     "metadata": {},
     "output_type": "execute_result"
    }
   ],
   "source": [
    "mnu_sales_df.shape"
   ]
  },
  {
   "cell_type": "code",
   "execution_count": 21,
   "id": "ed4b701b-6b8b-4446-b870-78ddadc3695e",
   "metadata": {},
   "outputs": [],
   "source": [
    "mnu_sales_df['revenue'] = mnu_sales_df.price * mnu_sales_df.Quantity"
   ]
  },
  {
   "cell_type": "code",
   "execution_count": 24,
   "id": "3bedbf4b-8fc6-4b4d-bc54-d5440cf8ce76",
   "metadata": {},
   "outputs": [],
   "source": [
    "mnu_sales_df['cogs'] = mnu_sales_df.cost * mnu_sales_df.Quantity\n",
    "mnu_sales_df['profit'] = mnu_sales_df.revenue - mnu_sales_df.cogs"
   ]
  },
  {
   "cell_type": "code",
   "execution_count": 28,
   "id": "3024dbec-bd07-43f7-a60c-4bfc4e157611",
   "metadata": {},
   "outputs": [],
   "source": [
    "results = mnu_sales_df.groupby('item').agg({'Quantity': ['sum'], 'revenue': ['sum'], 'cogs':['sum'], 'profit':['sum']})"
   ]
  },
  {
   "cell_type": "code",
   "execution_count": 29,
   "id": "9354fb67-338d-4ae9-bd20-0117030f67ed",
   "metadata": {},
   "outputs": [
    {
     "data": {
      "text/html": [
       "<div>\n",
       "<style scoped>\n",
       "    .dataframe tbody tr th:only-of-type {\n",
       "        vertical-align: middle;\n",
       "    }\n",
       "\n",
       "    .dataframe tbody tr th {\n",
       "        vertical-align: top;\n",
       "    }\n",
       "\n",
       "    .dataframe thead tr th {\n",
       "        text-align: left;\n",
       "    }\n",
       "\n",
       "    .dataframe thead tr:last-of-type th {\n",
       "        text-align: right;\n",
       "    }\n",
       "</style>\n",
       "<table border=\"1\" class=\"dataframe\">\n",
       "  <thead>\n",
       "    <tr>\n",
       "      <th></th>\n",
       "      <th>Quantity</th>\n",
       "      <th>revenue</th>\n",
       "      <th>cogs</th>\n",
       "      <th>profit</th>\n",
       "    </tr>\n",
       "    <tr>\n",
       "      <th></th>\n",
       "      <th>sum</th>\n",
       "      <th>sum</th>\n",
       "      <th>sum</th>\n",
       "      <th>sum</th>\n",
       "    </tr>\n",
       "    <tr>\n",
       "      <th>item</th>\n",
       "      <th></th>\n",
       "      <th></th>\n",
       "      <th></th>\n",
       "      <th></th>\n",
       "    </tr>\n",
       "  </thead>\n",
       "  <tbody>\n",
       "    <tr>\n",
       "      <th>burnt garlic tonkotsu ramen</th>\n",
       "      <td>9070</td>\n",
       "      <td>126980.0</td>\n",
       "      <td>54420</td>\n",
       "      <td>72560.0</td>\n",
       "    </tr>\n",
       "    <tr>\n",
       "      <th>miso crab ramen</th>\n",
       "      <td>8890</td>\n",
       "      <td>106680.0</td>\n",
       "      <td>53340</td>\n",
       "      <td>53340.0</td>\n",
       "    </tr>\n",
       "    <tr>\n",
       "      <th>nagomi shoyu</th>\n",
       "      <td>9132</td>\n",
       "      <td>100452.0</td>\n",
       "      <td>45660</td>\n",
       "      <td>54792.0</td>\n",
       "    </tr>\n",
       "    <tr>\n",
       "      <th>shio ramen</th>\n",
       "      <td>9180</td>\n",
       "      <td>100980.0</td>\n",
       "      <td>45900</td>\n",
       "      <td>55080.0</td>\n",
       "    </tr>\n",
       "    <tr>\n",
       "      <th>soft-shell miso crab ramen</th>\n",
       "      <td>9130</td>\n",
       "      <td>127820.0</td>\n",
       "      <td>63910</td>\n",
       "      <td>63910.0</td>\n",
       "    </tr>\n",
       "    <tr>\n",
       "      <th>spicy miso ramen</th>\n",
       "      <td>9238</td>\n",
       "      <td>110856.0</td>\n",
       "      <td>46190</td>\n",
       "      <td>64666.0</td>\n",
       "    </tr>\n",
       "    <tr>\n",
       "      <th>tonkotsu ramen</th>\n",
       "      <td>9288</td>\n",
       "      <td>120744.0</td>\n",
       "      <td>55728</td>\n",
       "      <td>65016.0</td>\n",
       "    </tr>\n",
       "    <tr>\n",
       "      <th>tori paitan ramen</th>\n",
       "      <td>9156</td>\n",
       "      <td>119028.0</td>\n",
       "      <td>54936</td>\n",
       "      <td>64092.0</td>\n",
       "    </tr>\n",
       "    <tr>\n",
       "      <th>truffle butter ramen</th>\n",
       "      <td>8982</td>\n",
       "      <td>125748.0</td>\n",
       "      <td>62874</td>\n",
       "      <td>62874.0</td>\n",
       "    </tr>\n",
       "    <tr>\n",
       "      <th>vegetarian curry + king trumpet mushroom ramen</th>\n",
       "      <td>8824</td>\n",
       "      <td>114712.0</td>\n",
       "      <td>61768</td>\n",
       "      <td>52944.0</td>\n",
       "    </tr>\n",
       "    <tr>\n",
       "      <th>vegetarian spicy miso</th>\n",
       "      <td>9216</td>\n",
       "      <td>110592.0</td>\n",
       "      <td>46080</td>\n",
       "      <td>64512.0</td>\n",
       "    </tr>\n",
       "  </tbody>\n",
       "</table>\n",
       "</div>"
      ],
      "text/plain": [
       "                                               Quantity   revenue   cogs  \\\n",
       "                                                    sum       sum    sum   \n",
       "item                                                                       \n",
       "burnt garlic tonkotsu ramen                        9070  126980.0  54420   \n",
       "miso crab ramen                                    8890  106680.0  53340   \n",
       "nagomi shoyu                                       9132  100452.0  45660   \n",
       "shio ramen                                         9180  100980.0  45900   \n",
       "soft-shell miso crab ramen                         9130  127820.0  63910   \n",
       "spicy miso ramen                                   9238  110856.0  46190   \n",
       "tonkotsu ramen                                     9288  120744.0  55728   \n",
       "tori paitan ramen                                  9156  119028.0  54936   \n",
       "truffle butter ramen                               8982  125748.0  62874   \n",
       "vegetarian curry + king trumpet mushroom ramen     8824  114712.0  61768   \n",
       "vegetarian spicy miso                              9216  110592.0  46080   \n",
       "\n",
       "                                                 profit  \n",
       "                                                    sum  \n",
       "item                                                     \n",
       "burnt garlic tonkotsu ramen                     72560.0  \n",
       "miso crab ramen                                 53340.0  \n",
       "nagomi shoyu                                    54792.0  \n",
       "shio ramen                                      55080.0  \n",
       "soft-shell miso crab ramen                      63910.0  \n",
       "spicy miso ramen                                64666.0  \n",
       "tonkotsu ramen                                  65016.0  \n",
       "tori paitan ramen                               64092.0  \n",
       "truffle butter ramen                            62874.0  \n",
       "vegetarian curry + king trumpet mushroom ramen  52944.0  \n",
       "vegetarian spicy miso                           64512.0  "
      ]
     },
     "execution_count": 29,
     "metadata": {},
     "output_type": "execute_result"
    }
   ],
   "source": [
    "results"
   ]
  },
  {
   "cell_type": "markdown",
   "id": "19e94156-4033-4f73-97e7-89cc5c9e7712",
   "metadata": {},
   "source": [
    "spicy miso ramen {'01-count': 9238, '02-revenue': 110856.0, '03-cogs': 46190.0, '04-profit': 64666.0}\n",
    "tori paitan ramen {'01-count': 9156, '02-revenue': 119028.0, '03-cogs': 54936.0, '04-profit': 64092.0}\n",
    "truffle butter ramen {'01-count': 8982, '02-revenue': 125748.0, '03-cogs': 62874.0, '04-profit': 62874.0}\n",
    "tonkotsu ramen {'01-count': 9288, '02-revenue': 120744.0, '03-cogs': 55728.0, '04-profit': 65016.0}\n",
    "vegetarian spicy miso {'01-count': 9216, '02-revenue': 110592.0, '03-cogs': 46080.0, '04-profit': 64512.0}\n",
    "shio ramen {'01-count': 9180, '02-revenue': 100980.0, '03-cogs': 45900.0, '04-profit': 55080.0}\n",
    "miso crab ramen {'01-count': 8890, '02-revenue': 106680.0, '03-cogs': 53340.0, '04-profit': 53340.0}\n",
    "nagomi shoyu {'01-count': 9132, '02-revenue': 100452.0, '03-cogs': 45660.0, '04-profit': 54792.0}\n",
    "soft-shell miso crab ramen {'01-count': 9130, '02-revenue': 127820.0, '03-cogs': 63910.0, '04-profit': 63910.0}\n",
    "burnt garlic tonkotsu ramen {'01-count': 9070, '02-revenue': 126980.0, '03-cogs': 54420.0, '04-profit': 72560.0}\n",
    "vegetarian curry + king trumpet mushroom ramen {'01-count': 8824, '02-revenue': 114712.0, '03-cogs': 61768.0, '04-profit': 52944.0}\n"
   ]
  },
  {
   "cell_type": "code",
   "execution_count": null,
   "id": "7cd56e37-5bd5-4ff6-84e6-b3c795423a94",
   "metadata": {},
   "outputs": [],
   "source": []
  },
  {
   "cell_type": "code",
   "execution_count": null,
   "id": "d0607d0c-1381-44bb-a304-d3cef8d16695",
   "metadata": {},
   "outputs": [],
   "source": []
  }
 ],
 "metadata": {
  "kernelspec": {
   "display_name": "Python 3",
   "language": "python",
   "name": "python3"
  },
  "language_info": {
   "codemirror_mode": {
    "name": "ipython",
    "version": 3
   },
   "file_extension": ".py",
   "mimetype": "text/x-python",
   "name": "python",
   "nbconvert_exporter": "python",
   "pygments_lexer": "ipython3",
   "version": "3.8.5"
  }
 },
 "nbformat": 4,
 "nbformat_minor": 5
}
