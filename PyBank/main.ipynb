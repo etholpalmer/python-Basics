{
 "cells": [
  {
   "cell_type": "markdown",
   "source": [
    "# FinTech Home work Assignment 2"
   ],
   "metadata": {}
  },
  {
   "cell_type": "code",
   "execution_count": 2,
   "source": [
    "import csv"
   ],
   "outputs": [],
   "metadata": {}
  },
  {
   "cell_type": "markdown",
   "source": [
    "## Set the variables"
   ],
   "metadata": {}
  },
  {
   "cell_type": "markdown",
   "source": [
    "### Set DEBUG Mode"
   ],
   "metadata": {}
  },
  {
   "cell_type": "code",
   "execution_count": 66,
   "source": [
    "DEBUG         = False"
   ],
   "outputs": [],
   "metadata": {}
  },
  {
   "cell_type": "code",
   "execution_count": null,
   "source": [
    "line_count    = 0            # Count the number of lines in the CSV file\r\n",
    "mth_cnt       = 0            # Count the number of months encountered\r\n",
    "total_P_and_L = 0.0          # The total profit and loss for all the months\r\n",
    "total_change  = 0.0          # The total change between the current and previous month\r\n",
    "prev_pl_amt   = 0.0          # The previous month's profit and loss amount.  \r\n",
    "\r\n",
    "max_chg, max_month  = 0.0, \"\"       # Stores the maximum P&L change with the month it occured\r\n",
    "min_chg, min_month  = 0.0, \"\"       # Stores the minimum P&L change with the month it occured\r\n",
    "mth, pl_amt, change = \"\", 0.0, 0.0  # Stores the current month count, P&L amount and P&L change"
   ],
   "outputs": [],
   "metadata": {}
  },
  {
   "cell_type": "markdown",
   "source": [
    "## Function to Save the summary information to a text file or report the reason for the failure to do so"
   ],
   "metadata": {}
  },
  {
   "cell_type": "code",
   "execution_count": null,
   "source": [
    "def Save_2_File(data=None, file_name=\"./data/FinSummary.txt\"):\r\n",
    "    \"\"\" Writes the data to the specified file \"\"\"\r\n",
    "    \r\n",
    "    if data is None:\r\n",
    "        return False,None\r\n",
    "    else:\r\n",
    "        try:\r\n",
    "            f = open(file_name,\"wt\")\r\n",
    "            f.write(data)\r\n",
    "            f.close()\r\n",
    "        except OSError as err:\r\n",
    "            return False, err.strerror\r\n",
    "        \r\n",
    "        return True, file_name"
   ],
   "outputs": [],
   "metadata": {}
  },
  {
   "cell_type": "markdown",
   "source": [
    "## Function to generate to summary results as a string "
   ],
   "metadata": {}
  },
  {
   "cell_type": "code",
   "execution_count": null,
   "source": [
    "def OutputSummary(mth_cnt, total_P_and_L,total_change,max_month,max_chg,min_month,min_chg):\r\n",
    "    \"\"\"\r\n",
    "        Generates a string with the summary of the output data\r\n",
    "    \"\"\"\r\n",
    "    result = \"Financial Analysis\\n\"\r\n",
    "    result += (\"-\" * 28) + '\\n'\r\n",
    "    result += (f'Total Months: {mth_cnt}\\n')\r\n",
    "    result += (f'Total:\\t\\t{total_P_and_L:16,.2f}\\n')\r\n",
    "    result += (f'Total Change: {total_change:18,.2f}\\n')\r\n",
    "    result += (f'Average Change:{total_change/(mth_cnt-1):17,.2f}\\n')\r\n",
    "    result += (f'Greatest Increase in Profits: {max_month} (${max_chg:15,.2f})\\n')\r\n",
    "    result += (f'Greatest Decrease in Profits: {min_month} (${min_chg:15,.2f})\\n')\r\n",
    "\r\n",
    "    return result"
   ],
   "outputs": [],
   "metadata": {}
  },
  {
   "cell_type": "markdown",
   "source": [
    "## Code to read the CSV and populate the variables"
   ],
   "metadata": {}
  },
  {
   "cell_type": "code",
   "execution_count": 65,
   "source": [
    "with open('data/budget_data.csv') as csv_budget:\r\n",
    "    budget_reader = csv.reader(csv_budget, delimiter=',')\r\n",
    "    \r\n",
    "    for row in budget_reader:\r\n",
    "        line_count   += 1\r\n",
    "        if line_count == 1:\r\n",
    "            if DEBUG:\r\n",
    "                print(f'Column names are {\", \".join(row)}')\r\n",
    "        else:\r\n",
    "            mth, pl_amt    = row[0], float(row[1])\r\n",
    "            total_P_and_L += pl_amt\r\n",
    "            \r\n",
    "            # Skip the first 'prev_pl_amt'\r\n",
    "            if line_count > 1:\r\n",
    "                change         = (pl_amt - prev_pl_amt)\r\n",
    "                total_change  += change\r\n",
    "\r\n",
    "            if DEBUG:\r\n",
    "                print(f'{line_count:2} Month:\\t{mth}  amount: {pl_amt:15,.2f} \\tchange: {change:15,.2f} \\ttotal Change:{total_change:15,.2f}')\r\n",
    "            \r\n",
    "            if change > 0:\r\n",
    "                if change > max_chg:\r\n",
    "                    max_chg = change\r\n",
    "                    max_month = mth\r\n",
    "            else:\r\n",
    "                if change < min_chg:\r\n",
    "                    min_chg = change\r\n",
    "                    min_month = mth\r\n",
    "            \r\n",
    "            mth_cnt    += 1\r\n",
    "            prev_pl_amt = pl_amt\r\n",
    "        \r\n",
    "        total_change += (pl_amt - prev_pl_amt)\r\n"
   ],
   "outputs": [
    {
     "output_type": "stream",
     "name": "stdout",
     "text": [
      "Financial Analysis\n",
      "----------------------------\n",
      "Total Months: 86\n",
      "Total:\t\t   38,382,578.00\n",
      "Total Change:        -196,785.00\n",
      "Average Change:        -2,315.12\n",
      "Greatest Increase in Profits: Feb-2012 ($   1,926,159.00)\n",
      "Greatest Decrease in Profits: Sep-2013 ($  -2,196,167.00)\n",
      "\n",
      "Wrote data to ./data/FinSummary.txt\n"
     ]
    }
   ],
   "metadata": {}
  },
  {
   "cell_type": "markdown",
   "source": [
    "## Generates the results, displays them and saves the file."
   ],
   "metadata": {}
  },
  {
   "cell_type": "code",
   "execution_count": null,
   "source": [
    "summary_data = OutputSummary(mth_cnt, total_P_and_L,total_change,max_month,max_chg,min_month,min_chg)\r\n",
    "success, fname = Save_2_File(summary_data)\r\n",
    "saved_state = f'Wrote data to {fname}' if success else f'Sorry not able to write to file beacuse {fname}'\r\n",
    "\r\n",
    "print(summary_data)\r\n",
    "print(saved_state)"
   ],
   "outputs": [],
   "metadata": {}
  },
  {
   "cell_type": "markdown",
   "source": [
    "# Homework redone using Pandas"
   ],
   "metadata": {}
  },
  {
   "cell_type": "code",
   "execution_count": 17,
   "source": [
    "import pandas as pd"
   ],
   "outputs": [],
   "metadata": {}
  },
  {
   "cell_type": "markdown",
   "source": [
    "## Read the CSV into a Data Frame"
   ],
   "metadata": {}
  },
  {
   "cell_type": "code",
   "execution_count": 19,
   "source": [
    "df = pd.read_csv(\"./data/budget_data.csv\")"
   ],
   "outputs": [],
   "metadata": {}
  },
  {
   "cell_type": "markdown",
   "source": [
    "## Find the Total Profit and Loss."
   ],
   "metadata": {}
  },
  {
   "cell_type": "code",
   "execution_count": 22,
   "source": [
    "total_PL = df['Profit/Losses'].sum()"
   ],
   "outputs": [],
   "metadata": {}
  },
  {
   "cell_type": "markdown",
   "source": [
    "## Create a new column called 'prev mth PL' and copy the profit and loss figures, shifting the down by 1 row"
   ],
   "metadata": {}
  },
  {
   "cell_type": "code",
   "execution_count": 41,
   "source": [
    "df['prev mth PL'] = df['Profit/Losses'].shift(1) #,fill_value=0)"
   ],
   "outputs": [],
   "metadata": {}
  },
  {
   "cell_type": "markdown",
   "source": [
    "## Create a new column called 'change' which keeps the difference between current P&L and prev month's P&L"
   ],
   "metadata": {}
  },
  {
   "cell_type": "code",
   "execution_count": 42,
   "source": [
    "df['change'] = df['Profit/Losses'] - df['prev mth PL']"
   ],
   "outputs": [],
   "metadata": {}
  },
  {
   "cell_type": "markdown",
   "source": [
    "## Display the results"
   ],
   "metadata": {}
  },
  {
   "cell_type": "code",
   "execution_count": 61,
   "source": [
    "f\"Number of months: {df['Date'].count():14}\",f\"The Average Change: {df['change'].mean():12,.2f}\", f\"The minimum change {df['change'].min():13,.2f}\", f\"The minimum change {df['change'].max():13,.2f}\",f\"The count of change {df['change'].count():12}\""
   ],
   "outputs": [
    {
     "output_type": "execute_result",
     "data": {
      "text/plain": [
       "('Number of months:             86',\n",
       " 'The Average Change:    -2,315.12',\n",
       " 'The minimum change -2,196,167.00',\n",
       " 'The minimum change  1,926,159.00',\n",
       " 'The count of change           85')"
      ]
     },
     "metadata": {},
     "execution_count": 61
    }
   ],
   "metadata": {}
  },
  {
   "cell_type": "code",
   "execution_count": 44,
   "source": [
    "df"
   ],
   "outputs": [
    {
     "output_type": "execute_result",
     "data": {
      "text/plain": [
       "        Date  Profit/Losses  prev mth PL    change\n",
       "0   Jan-2010         867884          NaN       NaN\n",
       "1   Feb-2010         984655     867884.0  116771.0\n",
       "2   Mar-2010         322013     984655.0 -662642.0\n",
       "3   Apr-2010         -69417     322013.0 -391430.0\n",
       "4   May-2010         310503     -69417.0  379920.0\n",
       "..       ...            ...          ...       ...\n",
       "81  Oct-2016         102685     768450.0 -665765.0\n",
       "82  Nov-2016         795914     102685.0  693229.0\n",
       "83  Dec-2016          60988     795914.0 -734926.0\n",
       "84  Jan-2017         138230      60988.0   77242.0\n",
       "85  Feb-2017         671099     138230.0  532869.0\n",
       "\n",
       "[86 rows x 4 columns]"
      ],
      "text/html": [
       "<div>\n",
       "<style scoped>\n",
       "    .dataframe tbody tr th:only-of-type {\n",
       "        vertical-align: middle;\n",
       "    }\n",
       "\n",
       "    .dataframe tbody tr th {\n",
       "        vertical-align: top;\n",
       "    }\n",
       "\n",
       "    .dataframe thead th {\n",
       "        text-align: right;\n",
       "    }\n",
       "</style>\n",
       "<table border=\"1\" class=\"dataframe\">\n",
       "  <thead>\n",
       "    <tr style=\"text-align: right;\">\n",
       "      <th></th>\n",
       "      <th>Date</th>\n",
       "      <th>Profit/Losses</th>\n",
       "      <th>prev mth PL</th>\n",
       "      <th>change</th>\n",
       "    </tr>\n",
       "  </thead>\n",
       "  <tbody>\n",
       "    <tr>\n",
       "      <th>0</th>\n",
       "      <td>Jan-2010</td>\n",
       "      <td>867884</td>\n",
       "      <td>NaN</td>\n",
       "      <td>NaN</td>\n",
       "    </tr>\n",
       "    <tr>\n",
       "      <th>1</th>\n",
       "      <td>Feb-2010</td>\n",
       "      <td>984655</td>\n",
       "      <td>867884.0</td>\n",
       "      <td>116771.0</td>\n",
       "    </tr>\n",
       "    <tr>\n",
       "      <th>2</th>\n",
       "      <td>Mar-2010</td>\n",
       "      <td>322013</td>\n",
       "      <td>984655.0</td>\n",
       "      <td>-662642.0</td>\n",
       "    </tr>\n",
       "    <tr>\n",
       "      <th>3</th>\n",
       "      <td>Apr-2010</td>\n",
       "      <td>-69417</td>\n",
       "      <td>322013.0</td>\n",
       "      <td>-391430.0</td>\n",
       "    </tr>\n",
       "    <tr>\n",
       "      <th>4</th>\n",
       "      <td>May-2010</td>\n",
       "      <td>310503</td>\n",
       "      <td>-69417.0</td>\n",
       "      <td>379920.0</td>\n",
       "    </tr>\n",
       "    <tr>\n",
       "      <th>...</th>\n",
       "      <td>...</td>\n",
       "      <td>...</td>\n",
       "      <td>...</td>\n",
       "      <td>...</td>\n",
       "    </tr>\n",
       "    <tr>\n",
       "      <th>81</th>\n",
       "      <td>Oct-2016</td>\n",
       "      <td>102685</td>\n",
       "      <td>768450.0</td>\n",
       "      <td>-665765.0</td>\n",
       "    </tr>\n",
       "    <tr>\n",
       "      <th>82</th>\n",
       "      <td>Nov-2016</td>\n",
       "      <td>795914</td>\n",
       "      <td>102685.0</td>\n",
       "      <td>693229.0</td>\n",
       "    </tr>\n",
       "    <tr>\n",
       "      <th>83</th>\n",
       "      <td>Dec-2016</td>\n",
       "      <td>60988</td>\n",
       "      <td>795914.0</td>\n",
       "      <td>-734926.0</td>\n",
       "    </tr>\n",
       "    <tr>\n",
       "      <th>84</th>\n",
       "      <td>Jan-2017</td>\n",
       "      <td>138230</td>\n",
       "      <td>60988.0</td>\n",
       "      <td>77242.0</td>\n",
       "    </tr>\n",
       "    <tr>\n",
       "      <th>85</th>\n",
       "      <td>Feb-2017</td>\n",
       "      <td>671099</td>\n",
       "      <td>138230.0</td>\n",
       "      <td>532869.0</td>\n",
       "    </tr>\n",
       "  </tbody>\n",
       "</table>\n",
       "<p>86 rows × 4 columns</p>\n",
       "</div>"
      ]
     },
     "metadata": {},
     "execution_count": 44
    }
   ],
   "metadata": {}
  },
  {
   "cell_type": "code",
   "execution_count": null,
   "source": [],
   "outputs": [],
   "metadata": {}
  }
 ],
 "metadata": {
  "kernelspec": {
   "display_name": "Python 3",
   "language": "python",
   "name": "python3"
  },
  "language_info": {
   "codemirror_mode": {
    "name": "ipython",
    "version": 3
   },
   "file_extension": ".py",
   "mimetype": "text/x-python",
   "name": "python",
   "nbconvert_exporter": "python",
   "pygments_lexer": "ipython3",
   "version": "3.8.5"
  }
 },
 "nbformat": 4,
 "nbformat_minor": 5
}