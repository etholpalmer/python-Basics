{
 "cells": [
  {
   "cell_type": "code",
   "execution_count": 2,
   "id": "6bf8f19b-b99f-46c8-a9d6-2247b5de7704",
   "metadata": {},
   "outputs": [],
   "source": [
    "import csv\n",
    "import sys"
   ]
  },
  {
   "cell_type": "code",
   "execution_count": 65,
   "id": "6f1dc3eb-5f4a-460d-b98d-b340dccf36c1",
   "metadata": {},
   "outputs": [
    {
     "name": "stdout",
     "output_type": "stream",
     "text": [
      "Financial Analysis\n",
      "----------------------------\n",
      "Total Months: 86\n",
      "Total:\t\t   38,382,578.00\n",
      "Total Change:        -196,785.00\n",
      "Average Change:        -2,315.12\n",
      "Greatest Increase in Profits: Feb-2012 ($   1,926,159.00)\n",
      "Greatest Decrease in Profits: Sep-2013 ($  -2,196,167.00)\n",
      "\n",
      "Wrote data to ./data/FinSummary.txt\n"
     ]
    }
   ],
   "source": [
    "DEBUG         = False\n",
    "line_count    = 0\n",
    "mth_cnt       = 0\n",
    "total_P_and_L = 0.0\n",
    "total_change  = 0.0\n",
    "prev_pl_amt   = 0.0\n",
    "max_chg       = 0.0\n",
    "max_month     = \"\"\n",
    "min_chg       = 0.0\n",
    "min_month     = \"\"\n",
    "mth, pl_amt,change = \"\", 0.0, 0.0\n",
    "\n",
    "def Save_2_File(data=None, file_name=\"./data/FinSummary.txt\"):\n",
    "    \"\"\" Writes the data to the specified file \"\"\"\n",
    "    \n",
    "    if data is None:\n",
    "        return False,None\n",
    "    else:\n",
    "        try:\n",
    "            f = open(file_name,\"wt\")\n",
    "            f.write(data)\n",
    "            f.close()\n",
    "        except OSError as err:\n",
    "            return False, err.strerror\n",
    "        \n",
    "        return True, file_name\n",
    "\n",
    "def OutputSummary(mth_cnt, total_P_and_L,total_change,max_month,max_chg,min_month,min_chg):\n",
    "    \"\"\"\n",
    "        Generates a string with the summary of the output data\n",
    "    \"\"\"\n",
    "    result = \"Financial Analysis\\n\"\n",
    "    result += (\"-\" * 28) + '\\n'\n",
    "    result += (f'Total Months: {mth_cnt}\\n')\n",
    "    result += (f'Total:\\t\\t{total_P_and_L:16,.2f}\\n')\n",
    "    result += (f'Total Change: {total_change:18,.2f}\\n')\n",
    "    result += (f'Average Change:{total_change/(mth_cnt-1):17,.2f}\\n')\n",
    "    result += (f'Greatest Increase in Profits: {max_month} (${max_chg:15,.2f})\\n')\n",
    "    result += (f'Greatest Decrease in Profits: {min_month} (${min_chg:15,.2f})\\n')\n",
    "\n",
    "    return result\n",
    "    \n",
    "with open('data/budget_data.csv') as csv_budget:\n",
    "    budget_reader = csv.reader(csv_budget, delimiter=',')\n",
    "    \n",
    "    for row in budget_reader:\n",
    "        if line_count == 0:\n",
    "            if DEBUG:\n",
    "                print(f'Column names are {\", \".join(row)}')\n",
    "        else:\n",
    "            mth, pl_amt    = row[0], float(row[1])\n",
    "            total_P_and_L += pl_amt\n",
    "            \n",
    "            # Skip the first 'prev_pl_amt'\n",
    "            if line_count > 1:\n",
    "                change         = (pl_amt - prev_pl_amt)\n",
    "                total_change  += change\n",
    "\n",
    "            if DEBUG:\n",
    "                print(f'{line_count:2} Month:\\t{mth}  amount: {pl_amt:15,.2f} \\tchange: {change:15,.2f} \\ttotal Change:{total_change:15,.2f}')\n",
    "            \n",
    "            if change > 0:\n",
    "                if change > max_chg:\n",
    "                    max_chg = change\n",
    "                    max_month = mth\n",
    "            else:\n",
    "                if change < min_chg:\n",
    "                    min_chg = change\n",
    "                    min_month = mth\n",
    "            \n",
    "            mth_cnt    += 1\n",
    "            prev_pl_amt = pl_amt\n",
    "        \n",
    "        total_change += (pl_amt - prev_pl_amt)\n",
    "        line_count   += 1\n",
    "    \n",
    "summary_data = OutputSummary(mth_cnt, total_P_and_L,total_change,max_month,max_chg,min_month,min_chg)\n",
    "success, fname = Save_2_File(summary_data)\n",
    "saved_state = f'Wrote data to {fname}' if success else f'Sorry not able to write to file beacuse {fname}'\n",
    "\n",
    "print(summary_data)\n",
    "print(saved_state)"
   ]
  },
  {
   "cell_type": "code",
   "execution_count": null,
   "id": "58fab8e3-11de-4b78-9e51-af56a51336a6",
   "metadata": {},
   "outputs": [],
   "source": []
  },
  {
   "cell_type": "code",
   "execution_count": 16,
   "id": "bc97a1ac-ccf2-448f-bb9f-50a4b518a050",
   "metadata": {},
   "outputs": [],
   "source": [
    "# Let's try that with Pandas"
   ]
  },
  {
   "cell_type": "code",
   "execution_count": 17,
   "id": "eaf14ba0-efe9-48e0-a797-d7ea6bf1dde9",
   "metadata": {},
   "outputs": [],
   "source": [
    "import pandas as pd"
   ]
  },
  {
   "cell_type": "code",
   "execution_count": 19,
   "id": "9d1e4fdf-21f5-4dc4-a76d-1e1e9b69d71a",
   "metadata": {},
   "outputs": [],
   "source": [
    "df = pd.read_csv(\"./data/budget_data.csv\")"
   ]
  },
  {
   "cell_type": "code",
   "execution_count": 22,
   "id": "14c1cbe8-ad27-4f2c-9cdd-27e5ea796f94",
   "metadata": {},
   "outputs": [],
   "source": [
    "total_PL = df['Profit/Losses'].sum()"
   ]
  },
  {
   "cell_type": "code",
   "execution_count": 41,
   "id": "e00663ac-f0d5-49ec-a7b1-4e3173bcef43",
   "metadata": {},
   "outputs": [],
   "source": [
    "df['prev mth PL'] = df['Profit/Losses'].shift(1) #,fill_value=0)"
   ]
  },
  {
   "cell_type": "code",
   "execution_count": 42,
   "id": "a56ca4ca-ed21-4093-9233-3a85bec99055",
   "metadata": {},
   "outputs": [],
   "source": [
    "df['change'] = df['Profit/Losses'] - df['prev mth PL']"
   ]
  },
  {
   "cell_type": "code",
   "execution_count": 61,
   "id": "35478cd4-8d43-4a17-bc58-83c14f777556",
   "metadata": {},
   "outputs": [
    {
     "data": {
      "text/plain": [
       "('Number of months:             86',\n",
       " 'The Average Change:    -2,315.12',\n",
       " 'The minimum change -2,196,167.00',\n",
       " 'The minimum change  1,926,159.00',\n",
       " 'The count of change           85')"
      ]
     },
     "execution_count": 61,
     "metadata": {},
     "output_type": "execute_result"
    }
   ],
   "source": [
    "f\"Number of months: {df['Date'].count():14}\",f\"The Average Change: {df['change'].mean():12,.2f}\", f\"The minimum change {df['change'].min():13,.2f}\", f\"The minimum change {df['change'].max():13,.2f}\",f\"The count of change {df['change'].count():12}\""
   ]
  },
  {
   "cell_type": "code",
   "execution_count": 44,
   "id": "a267c1ab-62c4-4b5b-a353-ede0582ff61e",
   "metadata": {},
   "outputs": [
    {
     "data": {
      "text/html": [
       "<div>\n",
       "<style scoped>\n",
       "    .dataframe tbody tr th:only-of-type {\n",
       "        vertical-align: middle;\n",
       "    }\n",
       "\n",
       "    .dataframe tbody tr th {\n",
       "        vertical-align: top;\n",
       "    }\n",
       "\n",
       "    .dataframe thead th {\n",
       "        text-align: right;\n",
       "    }\n",
       "</style>\n",
       "<table border=\"1\" class=\"dataframe\">\n",
       "  <thead>\n",
       "    <tr style=\"text-align: right;\">\n",
       "      <th></th>\n",
       "      <th>Date</th>\n",
       "      <th>Profit/Losses</th>\n",
       "      <th>prev mth PL</th>\n",
       "      <th>change</th>\n",
       "    </tr>\n",
       "  </thead>\n",
       "  <tbody>\n",
       "    <tr>\n",
       "      <th>0</th>\n",
       "      <td>Jan-2010</td>\n",
       "      <td>867884</td>\n",
       "      <td>NaN</td>\n",
       "      <td>NaN</td>\n",
       "    </tr>\n",
       "    <tr>\n",
       "      <th>1</th>\n",
       "      <td>Feb-2010</td>\n",
       "      <td>984655</td>\n",
       "      <td>867884.0</td>\n",
       "      <td>116771.0</td>\n",
       "    </tr>\n",
       "    <tr>\n",
       "      <th>2</th>\n",
       "      <td>Mar-2010</td>\n",
       "      <td>322013</td>\n",
       "      <td>984655.0</td>\n",
       "      <td>-662642.0</td>\n",
       "    </tr>\n",
       "    <tr>\n",
       "      <th>3</th>\n",
       "      <td>Apr-2010</td>\n",
       "      <td>-69417</td>\n",
       "      <td>322013.0</td>\n",
       "      <td>-391430.0</td>\n",
       "    </tr>\n",
       "    <tr>\n",
       "      <th>4</th>\n",
       "      <td>May-2010</td>\n",
       "      <td>310503</td>\n",
       "      <td>-69417.0</td>\n",
       "      <td>379920.0</td>\n",
       "    </tr>\n",
       "    <tr>\n",
       "      <th>...</th>\n",
       "      <td>...</td>\n",
       "      <td>...</td>\n",
       "      <td>...</td>\n",
       "      <td>...</td>\n",
       "    </tr>\n",
       "    <tr>\n",
       "      <th>81</th>\n",
       "      <td>Oct-2016</td>\n",
       "      <td>102685</td>\n",
       "      <td>768450.0</td>\n",
       "      <td>-665765.0</td>\n",
       "    </tr>\n",
       "    <tr>\n",
       "      <th>82</th>\n",
       "      <td>Nov-2016</td>\n",
       "      <td>795914</td>\n",
       "      <td>102685.0</td>\n",
       "      <td>693229.0</td>\n",
       "    </tr>\n",
       "    <tr>\n",
       "      <th>83</th>\n",
       "      <td>Dec-2016</td>\n",
       "      <td>60988</td>\n",
       "      <td>795914.0</td>\n",
       "      <td>-734926.0</td>\n",
       "    </tr>\n",
       "    <tr>\n",
       "      <th>84</th>\n",
       "      <td>Jan-2017</td>\n",
       "      <td>138230</td>\n",
       "      <td>60988.0</td>\n",
       "      <td>77242.0</td>\n",
       "    </tr>\n",
       "    <tr>\n",
       "      <th>85</th>\n",
       "      <td>Feb-2017</td>\n",
       "      <td>671099</td>\n",
       "      <td>138230.0</td>\n",
       "      <td>532869.0</td>\n",
       "    </tr>\n",
       "  </tbody>\n",
       "</table>\n",
       "<p>86 rows × 4 columns</p>\n",
       "</div>"
      ],
      "text/plain": [
       "        Date  Profit/Losses  prev mth PL    change\n",
       "0   Jan-2010         867884          NaN       NaN\n",
       "1   Feb-2010         984655     867884.0  116771.0\n",
       "2   Mar-2010         322013     984655.0 -662642.0\n",
       "3   Apr-2010         -69417     322013.0 -391430.0\n",
       "4   May-2010         310503     -69417.0  379920.0\n",
       "..       ...            ...          ...       ...\n",
       "81  Oct-2016         102685     768450.0 -665765.0\n",
       "82  Nov-2016         795914     102685.0  693229.0\n",
       "83  Dec-2016          60988     795914.0 -734926.0\n",
       "84  Jan-2017         138230      60988.0   77242.0\n",
       "85  Feb-2017         671099     138230.0  532869.0\n",
       "\n",
       "[86 rows x 4 columns]"
      ]
     },
     "execution_count": 44,
     "metadata": {},
     "output_type": "execute_result"
    }
   ],
   "source": [
    "df"
   ]
  },
  {
   "cell_type": "code",
   "execution_count": null,
   "id": "a5a292ab-1967-40e2-bf21-fca6c9de9120",
   "metadata": {},
   "outputs": [],
   "source": []
  }
 ],
 "metadata": {
  "kernelspec": {
   "display_name": "Python 3",
   "language": "python",
   "name": "python3"
  },
  "language_info": {
   "codemirror_mode": {
    "name": "ipython",
    "version": 3
   },
   "file_extension": ".py",
   "mimetype": "text/x-python",
   "name": "python",
   "nbconvert_exporter": "python",
   "pygments_lexer": "ipython3",
   "version": "3.8.5"
  }
 },
 "nbformat": 4,
 "nbformat_minor": 5
}
